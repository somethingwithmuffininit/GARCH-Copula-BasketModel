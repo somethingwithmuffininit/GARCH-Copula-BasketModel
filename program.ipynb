{
 "cells": [
  {
   "cell_type": "code",
   "execution_count": null,
   "metadata": {},
   "outputs": [],
   "source": [
    "#%pip install yfinance numpy statsmodels pandas matplotlib arch openpyxl"
   ]
  },
  {
   "cell_type": "code",
   "execution_count": 1,
   "metadata": {},
   "outputs": [],
   "source": [
    "%reset -f"
   ]
  },
  {
   "cell_type": "markdown",
   "metadata": {},
   "source": [
    "##### Import Data\n",
    "This cell imports index data from Yahoo Finance, using the yFinance library. Optionally, we can also make a backup of the data here."
   ]
  },
  {
   "cell_type": "code",
   "execution_count": null,
   "metadata": {},
   "outputs": [],
   "source": [
    "import yfinance as yf\n",
    "import pandas as pd\n",
    "import numpy as np\n",
    "\n",
    "# List of ticker symbols for each index\n",
    "tickers = [\"^GDAXI\", \"^AEX\", \"^N225\", \"^GSPC\", \"^GSPTSE\"]  # DAX, AEX, Nikkei 225, S&P 500, TSX\n",
    "index_datasets = {}\n",
    "\n",
    "#Set to True to overwrite backup of data\n",
    "#I used this to keep a backup, incase access to data was lost during the development of this program\n",
    "OVERWRITE_DATA = False\n",
    "\n",
    "\n",
    "# Loop over each ticker symbol to fetch the data\n",
    "for ticker in tickers:\n",
    "    # Retrieve the historical data starting from November 20, 1992\n",
    "    index = yf.Ticker(ticker)\n",
    "    #Save to dictionary\n",
    "    index_datasets[ticker] = index.history(start=\"1992-11-20\")\n",
    "    # Convert the Date column to Datetime\n",
    "    (index_datasets[ticker]).index = pd.to_datetime((index_datasets[ticker]).index.normalize().tz_localize(None))\n",
    "    \n",
    "    #Optional: Write data to disk\n",
    "    if OVERWRITE_DATA: index_datasets[ticker].to_excel(\".\\\\Data Backup\\\\\"+ticker+'.xlsx', index=True)"
   ]
  },
  {
   "cell_type": "markdown",
   "metadata": {},
   "source": [
    "##### Compute log-returns\n",
    "\n",
    "We merge all of the data stored in the index_datasets dictionary into one Pandas dataframe. We sample the data on a quarterly basis, using a forward fill to account for any missing dates. The forward fill is required to account for different exchanges having different holidays. We then compute the quarterly log-returns for each index. We then drop all data apart from the date and quarterly log-returns from our dataframe.\n"
   ]
  },
  {
   "cell_type": "code",
   "execution_count": 19,
   "metadata": {},
   "outputs": [],
   "source": [
    "# Initialize a DataFrame to store merged data\n",
    "merged_data = pd.DataFrame()\n",
    "k=0\n",
    "# Loop over each ticker symbol to fetch the data\n",
    "for ticker in tickers:\n",
    "    \n",
    "    index_data = index_datasets[ticker]\n",
    "\n",
    "    # Extract only the Date and Close columns, reset the index\n",
    "    close_data = (index_data[['Close']]).copy()\n",
    "\n",
    "    close_data.rename(columns={'Close': ticker},inplace=True)\n",
    "\n",
    "    \n",
    "    # Merge with the previously merged data\n",
    "    if merged_data.empty:\n",
    "        merged_data = close_data\n",
    "    else:\n",
    "        merged_data = pd.merge(merged_data, close_data, on='Date')\n",
    "\n",
    "\n",
    "\n",
    "for ticker in tickers:\n",
    "    #Forward fill missing data\n",
    "    merged_data[ticker] = merged_data[ticker].ffill()\n",
    "\n",
    "\n",
    "#Resample at end of each quarter\n",
    "merged_data = merged_data.resample(\"QE\").last()\n",
    "\n",
    "#Compute Log Returns\n",
    "merged_data[:] = np.log(1+merged_data.pct_change())\n",
    "\n",
    "#Alternatively, can use simple returns\n",
    "#merged_data[:] = merged_data.pct_change()\n",
    "\n",
    "merged_data.dropna(inplace=True)\n",
    "\n"
   ]
  },
  {
   "cell_type": "markdown",
   "metadata": {},
   "source": [
    "##### Fit Models\n",
    "Here, we first fit a Students-t GARCH model to the log-return data for each index, using the arch library.\n",
    "\n",
    "\n",
    "Note: We are actually fitting the GARCH model to 100 times the log-return data, as recommended by the library documentation. This is done to improve numerical stability.\n"
   ]
  },
  {
   "cell_type": "code",
   "execution_count": 28,
   "metadata": {},
   "outputs": [
    {
     "name": "stdout",
     "output_type": "stream",
     "text": [
      "                     Constant Mean - GARCH Model Results                      \n",
      "==============================================================================\n",
      "Dep. Variable:                 ^GDAXI   R-squared:                       0.000\n",
      "Mean Model:             Constant Mean   Adj. R-squared:                  0.000\n",
      "Vol Model:                      GARCH   Log-Likelihood:                97.0874\n",
      "Distribution:                  Normal   AIC:                          -186.175\n",
      "Method:            Maximum Likelihood   BIC:                          -174.767\n",
      "                                        No. Observations:                  128\n",
      "Date:                Wed, Dec 11 2024   Df Residuals:                      127\n",
      "Time:                        16:18:37   Df Model:                            1\n",
      "                                 Mean Model                                 \n",
      "============================================================================\n",
      "                 coef    std err          t      P>|t|      95.0% Conf. Int.\n",
      "----------------------------------------------------------------------------\n",
      "mu             0.0226  9.794e-03      2.304  2.124e-02 [3.366e-03,4.176e-02]\n",
      "                              Volatility Model                              \n",
      "============================================================================\n",
      "                 coef    std err          t      P>|t|      95.0% Conf. Int.\n",
      "----------------------------------------------------------------------------\n",
      "omega      3.4091e-03  1.499e-03      2.275  2.294e-02 [4.714e-04,6.347e-03]\n",
      "alpha[1]       0.1273  9.867e-02      1.290      0.197  [-6.607e-02,  0.321]\n",
      "beta[1]        0.6216      0.163      3.820  1.334e-04     [  0.303,  0.941]\n",
      "============================================================================\n",
      "\n",
      "Covariance estimator: robust\n",
      "\n",
      "                        Constant Mean - GARCH Model Results                         \n",
      "====================================================================================\n",
      "Dep. Variable:                       ^GDAXI   R-squared:                       0.000\n",
      "Mean Model:                   Constant Mean   Adj. R-squared:                  0.000\n",
      "Vol Model:                            GARCH   Log-Likelihood:                106.129\n",
      "Distribution:      Standardized Student's t   AIC:                          -202.258\n",
      "Method:                  Maximum Likelihood   BIC:                          -187.998\n",
      "                                              No. Observations:                  128\n",
      "Date:                      Wed, Dec 11 2024   Df Residuals:                      127\n",
      "Time:                              16:18:37   Df Model:                            1\n",
      "                                 Mean Model                                 \n",
      "============================================================================\n",
      "                 coef    std err          t      P>|t|      95.0% Conf. Int.\n",
      "----------------------------------------------------------------------------\n",
      "mu             0.0370  7.626e-03      4.856  1.196e-06 [2.209e-02,5.198e-02]\n",
      "                              Volatility Model                              \n",
      "============================================================================\n",
      "                 coef    std err          t      P>|t|      95.0% Conf. Int.\n",
      "----------------------------------------------------------------------------\n",
      "omega      4.5649e-03  2.214e-03      2.062  3.919e-02 [2.263e-04,8.904e-03]\n",
      "alpha[1]       0.3450      0.233      1.481      0.139     [ -0.112,  0.802]\n",
      "beta[1]        0.4981  9.238e-02      5.392  6.973e-08     [  0.317,  0.679]\n",
      "                              Distribution                              \n",
      "========================================================================\n",
      "                 coef    std err          t      P>|t|  95.0% Conf. Int.\n",
      "------------------------------------------------------------------------\n",
      "nu             3.0666      0.826      3.714  2.040e-04 [  1.448,  4.685]\n",
      "========================================================================\n",
      "\n",
      "Covariance estimator: robust\n",
      "\n",
      "                           Constant Mean - GARCH Model Results                           \n",
      "=========================================================================================\n",
      "Dep. Variable:                            ^GDAXI   R-squared:                       0.000\n",
      "Mean Model:                        Constant Mean   Adj. R-squared:                  0.000\n",
      "Vol Model:                                 GARCH   Log-Likelihood:                110.061\n",
      "Distribution:      Standardized Skew Student's t   AIC:                          -208.121\n",
      "Method:                       Maximum Likelihood   BIC:                          -191.009\n",
      "                                                   No. Observations:                  128\n",
      "Date:                           Wed, Dec 11 2024   Df Residuals:                      127\n",
      "Time:                                   16:18:37   Df Model:                            1\n",
      "                                 Mean Model                                 \n",
      "============================================================================\n",
      "                 coef    std err          t      P>|t|      95.0% Conf. Int.\n",
      "----------------------------------------------------------------------------\n",
      "mu             0.0213  9.575e-03      2.228  2.589e-02 [2.565e-03,4.010e-02]\n",
      "                              Volatility Model                              \n",
      "============================================================================\n",
      "                 coef    std err          t      P>|t|      95.0% Conf. Int.\n",
      "----------------------------------------------------------------------------\n",
      "omega      4.2408e-03  1.939e-03      2.187  2.876e-02 [4.399e-04,8.042e-03]\n",
      "alpha[1]       0.2843      0.153      1.856  6.341e-02  [-1.588e-02,  0.584]\n",
      "beta[1]        0.5191      0.109      4.776  1.791e-06     [  0.306,  0.732]\n",
      "                                Distribution                               \n",
      "===========================================================================\n",
      "                 coef    std err          t      P>|t|     95.0% Conf. Int.\n",
      "---------------------------------------------------------------------------\n",
      "eta            3.5144      0.932      3.770  1.633e-04    [  1.687,  5.342]\n",
      "lambda        -0.3655      0.141     -2.587  9.688e-03 [ -0.642,-8.857e-02]\n",
      "===========================================================================\n",
      "\n",
      "Covariance estimator: robust\n"
     ]
    }
   ],
   "source": [
    "from arch import arch_model\n",
    "from scipy.stats import t\n",
    "from statsmodels.graphics.tsaplots import plot_acf\n",
    "import matplotlib.pyplot as plt\n",
    "\n",
    "#Fit GARCH model using a custom distribution for the residuals\n",
    "#We will use dist = normal, t and skewt\n",
    "def fit_garch(ts, dist):\n",
    "    model = arch_model(ts, vol=\"Garch\", p=1, q=1, dist=dist, rescale=False)\n",
    "    return model.fit(disp=\"off\")\n",
    "\n",
    "\n",
    "\n",
    "print(fit_garch(merged_data[\"^GDAXI\"], \"normal\"))\n",
    "print()\n",
    "print(fit_garch(merged_data[\"^GDAXI\"], \"t\"))\n",
    "print()\n",
    "print(fit_garch(merged_data[\"^GDAXI\"], \"skewt\"))\n"
   ]
  },
  {
   "cell_type": "code",
   "execution_count": 54,
   "metadata": {},
   "outputs": [
    {
     "name": "stdout",
     "output_type": "stream",
     "text": [
      "Fitted parameters for each model:\n",
      "\n",
      "\n",
      "Model: normal\n",
      "             ^GDAXI       ^AEX      ^N225     ^GSPC    ^GSPTSE\n",
      "mu         2.256275   2.225294   0.658129  2.193717   1.485514\n",
      "omega     34.101196  27.560507  53.989657  8.488999  15.248494\n",
      "alpha[1]   0.127338   0.306432   0.000000  0.311479   0.154563\n",
      "beta[1]    0.621541   0.453440   0.501551  0.607396   0.621229\n",
      "\n",
      "Model: t\n",
      "             ^GDAXI       ^AEX       ^N225     ^GSPC    ^GSPTSE\n",
      "mu         3.703774   3.074346    0.676412  3.085102   2.971922\n",
      "omega     45.644488  42.360822   57.966267  8.259136  56.436246\n",
      "alpha[1]   0.344919   0.409715    0.000000  0.363726   0.318989\n",
      "beta[1]    0.498154   0.383073    0.465426  0.636274   0.101993\n",
      "nu         3.066533   3.161394  227.828110  3.474692   2.981782\n",
      "\n",
      "Model: skewt\n",
      "             ^GDAXI       ^AEX       ^N225     ^GSPC    ^GSPTSE\n",
      "mu         2.133236   1.751481    0.606702  1.944685   1.514557\n",
      "omega     42.406194  37.011740   55.739032  8.017228  16.331895\n",
      "alpha[1]   0.284236   0.347664    0.017532  0.297424   0.226049\n",
      "beta[1]    0.519064   0.397881    0.463961  0.658458   0.576021\n",
      "eta        3.514471   3.696715  186.312650  4.413798   4.246096\n",
      "lambda    -0.365529  -0.334719   -0.313868 -0.469890  -0.496044\n"
     ]
    }
   ],
   "source": [
    "u_dict = {}\n",
    "residuals_dict = {}\n",
    "\n",
    "fitted_models = {}\n",
    "models = (\"normal\",\"t\",\"skewt\")\n",
    "\n",
    "\n",
    "\n",
    "norm_df,t_df,skewt_df = pd.DataFrame(),pd.DataFrame(),pd.DataFrame()\n",
    "\n",
    "#Fit each GARCH model for each index, store results in fitted_models dictionary\n",
    "for model in models:\n",
    "    for ticker in tickers:\n",
    "        fitted_models[(ticker,model)] = fit_garch(merged_data[ticker]*100,model) #as suggested by the documentation, we scale our data to improve numerical stability\n",
    "        #print(ticker, model)\n",
    "        #print(fitted_models[(ticker,model)].params)\n",
    "\n",
    "#Creates a dataframe with the fitted parameters from each model, and prints results\n",
    "print(\"Fitted parameters for each model:\\n\")\n",
    "for model in models:\n",
    "    df = pd.DataFrame(columns=tickers)\n",
    "    for ticker in tickers:\n",
    "        df[ticker] = fitted_models[(ticker,model)].params\n",
    "    print(\"\\nModel: \"+model)\n",
    "    print(round(df,10))"
   ]
  },
  {
   "cell_type": "markdown",
   "metadata": {},
   "source": [
    "Recall that we scaled our log-returns by a factor of $100$ before fitting each model. Hence, our mean returns (mu) above are scaled by a factor of $100$, while our baseline variances (omega) are scaled by a factor of $100^2$\n",
    "\n",
    "For each model, we note that there \n",
    "\n",
    "\n",
    "Observe the pronounced heavy tails in the log-return distributions of each index, with the exception of the Nikkei 225 log returns, which seem to follow a normal distribution."
   ]
  },
  {
   "cell_type": "markdown",
   "metadata": {},
   "source": [
    "##### Plot ACF of residuals"
   ]
  },
  {
   "cell_type": "code",
   "execution_count": 7,
   "metadata": {},
   "outputs": [
    {
     "data": {
      "image/png": "[encoded data removed]",
      "text/plain": [
       "<Figure size 2500x500 with 5 Axes>"
      ]
     },
     "metadata": {},
     "output_type": "display_data"
    }
   ],
   "source": [
    "#This plots the ACF of the residuals of each GARCH, and displays them side by side for comparision\n",
    "def plot_residual_acfs(residuals_dict):\n",
    "    n_residuals = len(residuals_dict)\n",
    "    fig, axes = plt.subplots(1, n_residuals, figsize=(5 * n_residuals, 5))\n",
    "\n",
    "    for i in range(n_residuals):\n",
    "        ticker = tickers[i]\n",
    "        plot_acf(residuals_dict[ticker], lags=50, ax=axes[i])\n",
    "        axes[i].set_title('ACF of ' + ticker + ' GARCH Residuals')\n",
    "\n",
    "#Plot Results    \n",
    "plot_residual_acfs(residuals_dict)\n"
   ]
  },
  {
   "cell_type": "markdown",
   "metadata": {},
   "source": [
    "# Compute Spearman's Variance-Covariance Matrix\n",
    "Using the residuals from our Student's t GARCH model, we calculate the spearman correlation of the residuals."
   ]
  },
  {
   "cell_type": "code",
   "execution_count": 8,
   "metadata": {},
   "outputs": [
    {
     "ename": "NameError",
     "evalue": "name 'plot' is not defined",
     "output_type": "error",
     "traceback": [
      "\u001b[1;31m---------------------------------------------------------------------------\u001b[0m",
      "\u001b[1;31mNameError\u001b[0m                                 Traceback (most recent call last)",
      "Cell \u001b[1;32mIn[8], line 10\u001b[0m\n\u001b[0;32m      8\u001b[0m \u001b[38;5;28;01mfor\u001b[39;00m i \u001b[38;5;129;01min\u001b[39;00m tickers:\n\u001b[0;32m      9\u001b[0m     std_devs\u001b[38;5;241m.\u001b[39mappend(np\u001b[38;5;241m.\u001b[39mstd(residuals_dict[i]))\n\u001b[1;32m---> 10\u001b[0m     \u001b[43mplot\u001b[49m\n\u001b[0;32m     12\u001b[0m \u001b[38;5;66;03m# Calculate the variance-covariance matrix\u001b[39;00m\n\u001b[0;32m     13\u001b[0m cov_matrix \u001b[38;5;241m=\u001b[39m np\u001b[38;5;241m.\u001b[39mfloat64(spearman_corr) \u001b[38;5;241m*\u001b[39m np\u001b[38;5;241m.\u001b[39mouter(std_devs, std_devs)\n",
      "\u001b[1;31mNameError\u001b[0m: name 'plot' is not defined"
     ]
    }
   ],
   "source": [
    "from scipy.stats import spearmanr\n",
    "\n",
    "\n",
    "spearman_corr = spearmanr(list(residuals_dict.values()),axis=1)\n",
    "\n",
    "# Calculate the standard deviations of the residuals\n",
    "std_devs = []\n",
    "for i in tickers:\n",
    "    std_devs.append(np.std(residuals_dict[i]))\n",
    "    plot\n",
    "\n",
    "# Calculate the variance-covariance matrix\n",
    "cov_matrix = np.float64(spearman_corr) * np.outer(std_devs, std_devs)\n",
    "\n"
   ]
  },
  {
   "cell_type": "markdown",
   "metadata": {},
   "source": []
  },
  {
   "cell_type": "code",
   "execution_count": null,
   "metadata": {},
   "outputs": [
    {
     "ename": "ValueError",
     "evalue": "cov must be 2 dimensional and square",
     "output_type": "error",
     "traceback": [
      "\u001b[1;31m---------------------------------------------------------------------------\u001b[0m",
      "\u001b[1;31mValueError\u001b[0m                                Traceback (most recent call last)",
      "Cell \u001b[1;32mIn[204], line 7\u001b[0m\n\u001b[0;32m      4\u001b[0m \u001b[38;5;66;03m#Number Monte Carlo Simulations\u001b[39;00m\n\u001b[0;32m      5\u001b[0m n \u001b[38;5;241m=\u001b[39m \u001b[38;5;241m1000\u001b[39m\n\u001b[1;32m----> 7\u001b[0m simulated_data \u001b[38;5;241m=\u001b[39m \u001b[43mnp\u001b[49m\u001b[38;5;241;43m.\u001b[39;49m\u001b[43mrandom\u001b[49m\u001b[38;5;241;43m.\u001b[39;49m\u001b[43mmultivariate_normal\u001b[49m\u001b[43m(\u001b[49m\u001b[43mnp\u001b[49m\u001b[38;5;241;43m.\u001b[39;49m\u001b[43mzeros\u001b[49m\u001b[43m(\u001b[49m\u001b[38;5;28;43mlen\u001b[39;49m\u001b[43m(\u001b[49m\u001b[43mtickers\u001b[49m\u001b[43m)\u001b[49m\u001b[43m)\u001b[49m\u001b[43m,\u001b[49m\u001b[43mcov_matrix\u001b[49m\u001b[43m,\u001b[49m\u001b[43mn\u001b[49m\u001b[43m)\u001b[49m\n",
      "File \u001b[1;32mnumpy\\\\random\\\\mtrand.pyx:4233\u001b[0m, in \u001b[0;36mnumpy.random.mtrand.RandomState.multivariate_normal\u001b[1;34m()\u001b[0m\n",
      "\u001b[1;31mValueError\u001b[0m: cov must be 2 dimensional and square"
     ]
    }
   ],
   "source": [
    "\n",
    "#Seed\n",
    "np.random.seed(42) \n",
    "\n",
    "#Number Monte Carlo Simulations\n",
    "n = 1000\n",
    "\n",
    "simulated_data = np.random.multivariate_normal(np.zeros(len(tickers)),cov_matrix,n)\n",
    "\n",
    "\n",
    "    "
   ]
  },
  {
   "cell_type": "markdown",
   "metadata": {},
   "source": [
    "\n",
    "\n",
    "\n",
    "\n",
    "\n",
    "\n",
    "\n",
    "# Step 1: Transform the data to uniform margins using ECDF (Empirical CDF)\n",
    "uniform_data = pd.DataFrame()\n",
    "\n",
    "\n",
    "# Use empirical CDF for each column (ticker) in the merged data\n",
    "for ticker in tickers:\n",
    "    uniform_data[ticker] = merged_data_filled[ticker].rank() / len(merged_data_filled[ticker])\n",
    "\n",
    "# Step 2: Fit a copula (using Gaussian copula as an example)\n",
    "copula = StudentTCopula()\n",
    "\n",
    "# Step 3: Fit the copula to the uniform-transformed data\n",
    "copula.fit(uniform_data)\n",
    "\n",
    "# Step 4: Simulate synthetic data from the fitted copula (optional)\n",
    "simulated_data = copula.sample(len(merged_data_filled))\n",
    "\n",
    "# Convert the uniform data back to the original scale (inverse of the transformation)\n",
    "simulated_data_original_scale = pd.DataFrame()\n",
    "\n",
    "for idx, ticker in enumerate(tickers):\n",
    "    # Inverse transform (since we used ECDF, we can approximate the inverse by using the quantiles)\n",
    "    simulated_data_original_scale[ticker] = np.percentile(merged_data_filled[ticker], simulated_data[:, idx] * 100)\n",
    "\n",
    "# View the simulated data\n",
    "print(simulated_data_original_scale.head())\n"
   ]
  },
  {
   "cell_type": "code",
   "execution_count": null,
   "metadata": {},
   "outputs": [
    {
     "name": "stdout",
     "output_type": "stream",
     "text": [
      "Collecting pycop\n",
      "  Downloading pycop-0.0.13-py3-none-any.whl.metadata (11 kB)\n",
      "Downloading pycop-0.0.13-py3-none-any.whl (21 kB)\n",
      "Installing collected packages: pycop\n",
      "Successfully installed pycop-0.0.13\n",
      "Note: you may need to restart the kernel to use updated packages.\n"
     ]
    }
   ],
   "source": []
  }
 ],
 "metadata": {
  "kernelspec": {
   "display_name": ".venv",
   "language": "python",
   "name": "python3"
  },
  "language_info": {
   "codemirror_mode": {
    "name": "ipython",
    "version": 3
   },
   "file_extension": ".py",
   "mimetype": "text/x-python",
   "name": "python",
   "nbconvert_exporter": "python",
   "pygments_lexer": "ipython3",
   "version": "3.13.0"
  }
 },
 "nbformat": 4,
 "nbformat_minor": 2
}
