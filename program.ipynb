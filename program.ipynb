{
 "cells": [
  {
   "cell_type": "code",
   "execution_count": null,
   "metadata": {},
   "outputs": [],
   "source": [
    "#%pip install yfinance numpy statsmodels pandas matplotlib arch pycop"
   ]
  },
  {
   "cell_type": "code",
   "execution_count": 2,
   "metadata": {},
   "outputs": [],
   "source": [
    "import yfinance as yf\n",
    "import pandas as pd\n",
    "\n",
    "# List of ticker symbols for each index\n",
    "tickers = [\"^GDAXI\", \"^AEX\", \"^N225\", \"^GSPC\", \"^GSPTSE\"]  # DAX, AEX, Nikkei 225, S&P 500, TSX\n",
    "\n",
    "# Initialize a DataFrame to store merged data\n",
    "merged_data = pd.DataFrame()\n",
    "\n",
    "# Loop over each ticker symbol to fetch the data\n",
    "for ticker in tickers:\n",
    "    # Create ticker object\n",
    "    index = yf.Ticker(ticker)\n",
    "    \n",
    "    # Retrieve the historical data starting from November 20, 1992, rescaled by a factor of 0.01\n",
    "    index_data = index.history(start=\"1992-11-20\") * 0.01\n",
    "    \n",
    "    # Extract only the Date and Close columns, reset the index for Date as a column\n",
    "    close_data = index_data[['Close']].reset_index()\n",
    "    \n",
    "    # Convert the Date column to date only (ignoring the time)\n",
    "    close_data['Date'] = pd.to_datetime(close_data['Date'].dt.date)\n",
    "    \n",
    "    # Rename the columns to avoid conflicts in the merge\n",
    "    close_data = close_data.rename(columns={'Close': ticker})\n",
    "    \n",
    "    # Merge with the previously merged data on the 'Date' column\n",
    "    if merged_data.empty:\n",
    "        merged_data = close_data\n",
    "    else:\n",
    "        merged_data = pd.merge(merged_data, close_data, on='Date', how='outer')\n",
    "\n",
    "merged_data_filled = merged_data.ffill()\n",
    "\n"
   ]
  },
  {
   "cell_type": "code",
   "execution_count": null,
   "metadata": {},
   "outputs": [
    {
     "ename": "ImportError",
     "evalue": "cannot import name 'StudentTCopula' from 'pycopula.copula' (c:\\Programming\\Risk-Management-Project\\.venv\\Lib\\site-packages\\pycopula\\copula.py)",
     "output_type": "error",
     "traceback": [
      "\u001b[1;31m---------------------------------------------------------------------------\u001b[0m",
      "\u001b[1;31mImportError\u001b[0m                               Traceback (most recent call last)",
      "Cell \u001b[1;32mIn[5], line 4\u001b[0m\n\u001b[0;32m      2\u001b[0m \u001b[38;5;28;01mimport\u001b[39;00m \u001b[38;5;21;01mnumpy\u001b[39;00m \u001b[38;5;28;01mas\u001b[39;00m \u001b[38;5;21;01mnp\u001b[39;00m\n\u001b[0;32m      3\u001b[0m \u001b[38;5;28;01mimport\u001b[39;00m \u001b[38;5;21;01mpandas\u001b[39;00m \u001b[38;5;28;01mas\u001b[39;00m \u001b[38;5;21;01mpd\u001b[39;00m\n\u001b[1;32m----> 4\u001b[0m \u001b[38;5;28;01mfrom\u001b[39;00m \u001b[38;5;21;01mpycopula\u001b[39;00m\u001b[38;5;21;01m.\u001b[39;00m\u001b[38;5;21;01mcopula\u001b[39;00m \u001b[38;5;28;01mimport\u001b[39;00m StudentTCopula\n\u001b[0;32m     10\u001b[0m \u001b[38;5;28;01mdef\u001b[39;00m \u001b[38;5;21mfit_garch\u001b[39m(ts):\n\u001b[0;32m     11\u001b[0m     model \u001b[38;5;241m=\u001b[39m arch_model(ts, vol\u001b[38;5;241m=\u001b[39m\u001b[38;5;124m\"\u001b[39m\u001b[38;5;124mGarch\u001b[39m\u001b[38;5;124m\"\u001b[39m, p\u001b[38;5;241m=\u001b[39m\u001b[38;5;241m1\u001b[39m, q\u001b[38;5;241m=\u001b[39m\u001b[38;5;241m1\u001b[39m, dist\u001b[38;5;241m=\u001b[39m\u001b[38;5;124m\"\u001b[39m\u001b[38;5;124mt\u001b[39m\u001b[38;5;124m\"\u001b[39m)\n",
      "\u001b[1;31mImportError\u001b[0m: cannot import name 'StudentTCopula' from 'pycopula.copula' (c:\\Programming\\Risk-Management-Project\\.venv\\Lib\\site-packages\\pycopula\\copula.py)"
     ]
    }
   ],
   "source": [
    "from arch import arch_model\n",
    "import numpy as np\n",
    "import pandas as pd\n",
    "from pycop import StudentTCopula\n",
    "\n",
    "\n",
    "\n",
    "\n",
    "\n",
    "def fit_garch(ts):\n",
    "    model = arch_model(ts, vol=\"Garch\", p=1, q=1, dist=\"t\")\n",
    "    fitted = model.fit(disp=\"off\")\n",
    "    residuals = ts - fitted.conditional_volatility  # Approximation for simplicity\n",
    "    nu = fitted.params[\"nu\"]\n",
    "    return residuals, nu\n",
    "\n",
    "\n",
    "# Step 1: Transform the data to uniform margins using ECDF (Empirical CDF)\n",
    "uniform_data = pd.DataFrame()\n",
    "\n",
    "\n",
    "# Use empirical CDF for each column (ticker) in the merged data\n",
    "for ticker in tickers:\n",
    "    uniform_data[ticker] = merged_data_filled[ticker].rank() / len(merged_data_filled[ticker])\n",
    "\n",
    "# Step 2: Fit a copula (using Gaussian copula as an example)\n",
    "copula = StudentTCopula()\n",
    "\n",
    "# Step 3: Fit the copula to the uniform-transformed data\n",
    "copula.fit(uniform_data)\n",
    "\n",
    "# Step 4: Simulate synthetic data from the fitted copula (optional)\n",
    "simulated_data = copula.sample(len(merged_data_filled))\n",
    "\n",
    "# Convert the uniform data back to the original scale (inverse of the transformation)\n",
    "simulated_data_original_scale = pd.DataFrame()\n",
    "\n",
    "for idx, ticker in enumerate(tickers):\n",
    "    # Inverse transform (since we used ECDF, we can approximate the inverse by using the quantiles)\n",
    "    simulated_data_original_scale[ticker] = np.percentile(merged_data_filled[ticker], simulated_data[:, idx] * 100)\n",
    "\n",
    "# View the simulated data\n",
    "print(simulated_data_original_scale.head())\n",
    "\n",
    "\n",
    "\n",
    "\n",
    "marginal_results = [fit_garch(merged_data_filled[i]) for i in tickers]\n",
    "residuals_list, nu_list = zip(*marginal_results)\n",
    "\n",
    "\n"
   ]
  },
  {
   "cell_type": "code",
   "execution_count": 6,
   "metadata": {},
   "outputs": [
    {
     "name": "stdout",
     "output_type": "stream",
     "text": [
      "Collecting pycop\n",
      "  Downloading pycop-0.0.13-py3-none-any.whl.metadata (11 kB)\n",
      "Downloading pycop-0.0.13-py3-none-any.whl (21 kB)\n",
      "Installing collected packages: pycop\n",
      "Successfully installed pycop-0.0.13\n",
      "Note: you may need to restart the kernel to use updated packages.\n"
     ]
    }
   ],
   "source": [
    "%pip install pycop"
   ]
  }
 ],
 "metadata": {
  "kernelspec": {
   "display_name": ".venv",
   "language": "python",
   "name": "python3"
  },
  "language_info": {
   "codemirror_mode": {
    "name": "ipython",
    "version": 3
   },
   "file_extension": ".py",
   "mimetype": "text/x-python",
   "name": "python",
   "nbconvert_exporter": "python",
   "pygments_lexer": "ipython3",
   "version": "3.13.0"
  }
 },
 "nbformat": 4,
 "nbformat_minor": 2
}
