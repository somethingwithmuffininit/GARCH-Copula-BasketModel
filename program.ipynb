{
 "cells": [
  {
   "cell_type": "code",
   "execution_count": null,
   "metadata": {},
   "outputs": [
    {
     "name": "stdout",
     "output_type": "stream",
     "text": [
      "Collecting yfinance\n",
      "  Downloading yfinance-0.2.50-py2.py3-none-any.whl.metadata (5.5 kB)\n",
      "Collecting numpy\n",
      "  Using cached numpy-2.1.3-cp313-cp313-win_amd64.whl.metadata (60 kB)\n",
      "Collecting statsmodels\n",
      "  Using cached statsmodels-0.14.4-cp313-cp313-win_amd64.whl.metadata (9.5 kB)\n",
      "Collecting pandas\n",
      "  Using cached pandas-2.2.3-cp313-cp313-win_amd64.whl.metadata (19 kB)\n",
      "Collecting matplotlib\n",
      "  Using cached matplotlib-3.9.2-cp313-cp313-win_amd64.whl.metadata (11 kB)\n",
      "Collecting requests>=2.31 (from yfinance)\n",
      "  Downloading requests-2.32.3-py3-none-any.whl.metadata (4.6 kB)\n",
      "Collecting multitasking>=0.0.7 (from yfinance)\n",
      "  Downloading multitasking-0.0.11-py3-none-any.whl.metadata (5.5 kB)\n",
      "Collecting lxml>=4.9.1 (from yfinance)\n",
      "  Downloading lxml-5.3.0-cp313-cp313-win_amd64.whl.metadata (3.9 kB)\n",
      "Requirement already satisfied: platformdirs>=2.0.0 in c:\\programming\\risk-management-project\\.venv\\lib\\site-packages (from yfinance) (4.3.6)\n",
      "Collecting pytz>=2022.5 (from yfinance)\n",
      "  Using cached pytz-2024.2-py2.py3-none-any.whl.metadata (22 kB)\n",
      "Collecting frozendict>=2.3.4 (from yfinance)\n",
      "  Downloading frozendict-2.4.6-py313-none-any.whl.metadata (23 kB)\n",
      "Collecting peewee>=3.16.2 (from yfinance)\n",
      "  Downloading peewee-3.17.8.tar.gz (948 kB)\n",
      "     ---------------------------------------- 0.0/948.2 kB ? eta -:--:--\n",
      "     ------------------------------------- 948.2/948.2 kB 23.4 MB/s eta 0:00:00\n",
      "  Installing build dependencies: started\n",
      "  Installing build dependencies: finished with status 'done'\n",
      "  Getting requirements to build wheel: started\n",
      "  Getting requirements to build wheel: finished with status 'done'\n",
      "  Preparing metadata (pyproject.toml): started\n",
      "  Preparing metadata (pyproject.toml): finished with status 'done'\n",
      "Collecting beautifulsoup4>=4.11.1 (from yfinance)\n",
      "  Downloading beautifulsoup4-4.12.3-py3-none-any.whl.metadata (3.8 kB)\n",
      "Collecting html5lib>=1.1 (from yfinance)\n",
      "  Downloading html5lib-1.1-py2.py3-none-any.whl.metadata (16 kB)\n",
      "Collecting scipy!=1.9.2,>=1.8 (from statsmodels)\n",
      "  Using cached scipy-1.14.1-cp313-cp313-win_amd64.whl.metadata (60 kB)\n",
      "Collecting patsy>=0.5.6 (from statsmodels)\n",
      "  Using cached patsy-1.0.1-py2.py3-none-any.whl.metadata (3.3 kB)\n",
      "Requirement already satisfied: packaging>=21.3 in c:\\programming\\risk-management-project\\.venv\\lib\\site-packages (from statsmodels) (24.2)\n",
      "Requirement already satisfied: python-dateutil>=2.8.2 in c:\\programming\\risk-management-project\\.venv\\lib\\site-packages (from pandas) (2.9.0.post0)\n",
      "Collecting tzdata>=2022.7 (from pandas)\n",
      "  Using cached tzdata-2024.2-py2.py3-none-any.whl.metadata (1.4 kB)\n",
      "Collecting contourpy>=1.0.1 (from matplotlib)\n",
      "  Using cached contourpy-1.3.1-cp313-cp313-win_amd64.whl.metadata (5.4 kB)\n",
      "Collecting cycler>=0.10 (from matplotlib)\n",
      "  Using cached cycler-0.12.1-py3-none-any.whl.metadata (3.8 kB)\n",
      "Collecting fonttools>=4.22.0 (from matplotlib)\n",
      "  Using cached fonttools-4.55.0-cp313-cp313-win_amd64.whl.metadata (167 kB)\n",
      "Collecting kiwisolver>=1.3.1 (from matplotlib)\n",
      "  Using cached kiwisolver-1.4.7-cp313-cp313-win_amd64.whl.metadata (6.4 kB)\n",
      "Collecting pillow>=8 (from matplotlib)\n",
      "  Using cached pillow-11.0.0-cp313-cp313-win_amd64.whl.metadata (9.3 kB)\n",
      "Collecting pyparsing>=2.3.1 (from matplotlib)\n",
      "  Using cached pyparsing-3.2.0-py3-none-any.whl.metadata (5.0 kB)\n",
      "Collecting soupsieve>1.2 (from beautifulsoup4>=4.11.1->yfinance)\n",
      "  Downloading soupsieve-2.6-py3-none-any.whl.metadata (4.6 kB)\n",
      "Requirement already satisfied: six>=1.9 in c:\\programming\\risk-management-project\\.venv\\lib\\site-packages (from html5lib>=1.1->yfinance) (1.16.0)\n",
      "Collecting webencodings (from html5lib>=1.1->yfinance)\n",
      "  Downloading webencodings-0.5.1-py2.py3-none-any.whl.metadata (2.1 kB)\n",
      "Collecting charset-normalizer<4,>=2 (from requests>=2.31->yfinance)\n",
      "  Downloading charset_normalizer-3.4.0-cp313-cp313-win_amd64.whl.metadata (34 kB)\n",
      "Collecting idna<4,>=2.5 (from requests>=2.31->yfinance)\n",
      "  Downloading idna-3.10-py3-none-any.whl.metadata (10 kB)\n",
      "Collecting urllib3<3,>=1.21.1 (from requests>=2.31->yfinance)\n",
      "  Using cached urllib3-2.2.3-py3-none-any.whl.metadata (6.5 kB)\n",
      "Collecting certifi>=2017.4.17 (from requests>=2.31->yfinance)\n",
      "  Downloading certifi-2024.8.30-py3-none-any.whl.metadata (2.2 kB)\n",
      "Downloading yfinance-0.2.50-py2.py3-none-any.whl (102 kB)\n",
      "Using cached numpy-2.1.3-cp313-cp313-win_amd64.whl (12.6 MB)\n",
      "Using cached statsmodels-0.14.4-cp313-cp313-win_amd64.whl (9.8 MB)\n",
      "Using cached pandas-2.2.3-cp313-cp313-win_amd64.whl (11.5 MB)\n",
      "Using cached matplotlib-3.9.2-cp313-cp313-win_amd64.whl (7.8 MB)\n",
      "Downloading beautifulsoup4-4.12.3-py3-none-any.whl (147 kB)\n",
      "Using cached contourpy-1.3.1-cp313-cp313-win_amd64.whl (220 kB)\n",
      "Using cached cycler-0.12.1-py3-none-any.whl (8.3 kB)\n",
      "Using cached fonttools-4.55.0-cp313-cp313-win_amd64.whl (2.2 MB)\n",
      "Downloading frozendict-2.4.6-py313-none-any.whl (16 kB)\n",
      "Downloading html5lib-1.1-py2.py3-none-any.whl (112 kB)\n",
      "Using cached kiwisolver-1.4.7-cp313-cp313-win_amd64.whl (55 kB)\n",
      "Downloading lxml-5.3.0-cp313-cp313-win_amd64.whl (3.8 MB)\n",
      "   ---------------------------------------- 0.0/3.8 MB ? eta -:--:--\n",
      "   ---------------------------------------- 3.8/3.8 MB 73.3 MB/s eta 0:00:00\n",
      "Downloading multitasking-0.0.11-py3-none-any.whl (8.5 kB)\n",
      "Using cached patsy-1.0.1-py2.py3-none-any.whl (232 kB)\n",
      "Using cached pillow-11.0.0-cp313-cp313-win_amd64.whl (2.6 MB)\n",
      "Using cached pyparsing-3.2.0-py3-none-any.whl (106 kB)\n",
      "Using cached pytz-2024.2-py2.py3-none-any.whl (508 kB)\n",
      "Downloading requests-2.32.3-py3-none-any.whl (64 kB)\n",
      "Using cached scipy-1.14.1-cp313-cp313-win_amd64.whl (44.5 MB)\n",
      "Using cached tzdata-2024.2-py2.py3-none-any.whl (346 kB)\n",
      "Downloading certifi-2024.8.30-py3-none-any.whl (167 kB)\n",
      "Downloading charset_normalizer-3.4.0-cp313-cp313-win_amd64.whl (102 kB)\n",
      "Downloading idna-3.10-py3-none-any.whl (70 kB)\n",
      "Downloading soupsieve-2.6-py3-none-any.whl (36 kB)\n",
      "Using cached urllib3-2.2.3-py3-none-any.whl (126 kB)\n",
      "Downloading webencodings-0.5.1-py2.py3-none-any.whl (11 kB)\n",
      "Building wheels for collected packages: peewee\n",
      "  Building wheel for peewee (pyproject.toml): started\n",
      "  Building wheel for peewee (pyproject.toml): finished with status 'done'\n",
      "  Created wheel for peewee: filename=peewee-3.17.8-py3-none-any.whl size=139012 sha256=c0a1d1fb50e61b7017a46d71a4f37085f16fbbbc9495a3d2fed2c739339bfa29\n",
      "  Stored in directory: c:\\users\\liamm\\appdata\\local\\pip\\cache\\wheels\\b2\\69\\9e\\5485afcc187c66def1fab96de510fa77da574ec5343f3a5f89\n",
      "Successfully built peewee\n",
      "Installing collected packages: webencodings, pytz, peewee, multitasking, urllib3, tzdata, soupsieve, pyparsing, pillow, numpy, lxml, kiwisolver, idna, html5lib, frozendict, fonttools, cycler, charset-normalizer, certifi, scipy, requests, patsy, pandas, contourpy, beautifulsoup4, yfinance, statsmodels, matplotlib\n",
      "Successfully installed beautifulsoup4-4.12.3 certifi-2024.8.30 charset-normalizer-3.4.0 contourpy-1.3.1 cycler-0.12.1 fonttools-4.55.0 frozendict-2.4.6 html5lib-1.1 idna-3.10 kiwisolver-1.4.7 lxml-5.3.0 matplotlib-3.9.2 multitasking-0.0.11 numpy-2.1.3 pandas-2.2.3 patsy-1.0.1 peewee-3.17.8 pillow-11.0.0 pyparsing-3.2.0 pytz-2024.2 requests-2.32.3 scipy-1.14.1 soupsieve-2.6 statsmodels-0.14.4 tzdata-2024.2 urllib3-2.2.3 webencodings-0.5.1 yfinance-0.2.50\n",
      "Note: you may need to restart the kernel to use updated packages.\n"
     ]
    }
   ],
   "source": [
    "#%pip install yfinance numpy statsmodels pandas matplotlib"
   ]
  },
  {
   "cell_type": "code",
   "execution_count": null,
   "metadata": {},
   "outputs": [
    {
     "name": "stdout",
     "output_type": "stream",
     "text": [
      "                                Open       High        Low      Close  Volume  \\\n",
      "Date                                                                            \n",
      "1927-12-30 00:00:00-05:00  17.660000  17.660000  17.660000  17.660000       0   \n",
      "1928-01-03 00:00:00-05:00  17.760000  17.760000  17.760000  17.760000       0   \n",
      "1928-01-04 00:00:00-05:00  17.719999  17.719999  17.719999  17.719999       0   \n",
      "1928-01-05 00:00:00-05:00  17.549999  17.549999  17.549999  17.549999       0   \n",
      "1928-01-06 00:00:00-05:00  17.660000  17.660000  17.660000  17.660000       0   \n",
      "\n",
      "                           Dividends  Stock Splits  \n",
      "Date                                                \n",
      "1927-12-30 00:00:00-05:00        0.0           0.0  \n",
      "1928-01-03 00:00:00-05:00        0.0           0.0  \n",
      "1928-01-04 00:00:00-05:00        0.0           0.0  \n",
      "1928-01-05 00:00:00-05:00        0.0           0.0  \n",
      "1928-01-06 00:00:00-05:00        0.0           0.0  \n"
     ]
    }
   ],
   "source": [
    "import yfinance as yf\n",
    "\n",
    "\n",
    "sp500 = yf.Ticker(\"^GSPC\")\n",
    "tsx = yf.Ticker(\"^S&P/TSX\")\n",
    "\n",
    "\n",
    "sp500_data = sp500.history(period=\"max\")\n",
    "sp500_data = sp500.history(period=\"max\")\n",
    "print(data.head())"
   ]
  },
  {
   "cell_type": "code",
   "execution_count": 3,
   "metadata": {},
   "outputs": [
    {
     "data": {
      "text/plain": [
       "'HI'"
      ]
     },
     "execution_count": 3,
     "metadata": {},
     "output_type": "execute_result"
    }
   ],
   "source": [
    "\"HI\""
   ]
  },
  {
   "cell_type": "code",
   "execution_count": 4,
   "metadata": {},
   "outputs": [
    {
     "data": {
      "text/plain": [
       "'i'"
      ]
     },
     "execution_count": 4,
     "metadata": {},
     "output_type": "execute_result"
    }
   ],
   "source": [
    "\"i\""
   ]
  }
 ],
 "metadata": {
  "kernelspec": {
   "display_name": ".venv",
   "language": "python",
   "name": "python3"
  },
  "language_info": {
   "codemirror_mode": {
    "name": "ipython",
    "version": 3
   },
   "file_extension": ".py",
   "mimetype": "text/x-python",
   "name": "python",
   "nbconvert_exporter": "python",
   "pygments_lexer": "ipython3",
   "version": "3.13.0"
  }
 },
 "nbformat": 4,
 "nbformat_minor": 2
}
